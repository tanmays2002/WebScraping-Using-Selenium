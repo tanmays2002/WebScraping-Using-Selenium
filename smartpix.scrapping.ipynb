{
 "cells": [
  {
   "cell_type": "code",
   "execution_count": 1,
   "id": "e3971cfd",
   "metadata": {},
   "outputs": [],
   "source": [
    "with open('smartpix.html','r',encoding='utf-8')as f:\n",
    "    html = f.read()"
   ]
  },
  {
   "cell_type": "code",
   "execution_count": 2,
   "id": "fa043221",
   "metadata": {},
   "outputs": [],
   "source": [
    "from bs4 import BeautifulSoup\n",
    "import pandas as pd\n",
    "import numpuy as np"
   ]
  },
  {
   "cell_type": "code",
   "execution_count": 3,
   "id": "09f33f14",
   "metadata": {},
   "outputs": [],
   "source": [
    "soup = BeautifulSoup(html,'lxml')"
   ]
  },
  {
   "cell_type": "code",
   "execution_count": 6,
   "id": "523edcb1",
   "metadata": {},
   "outputs": [],
   "source": [
    "containers = soup.find_all('div',{\"class\":\"sm-product has-tag has-features has-actions\"})"
   ]
  },
  {
   "cell_type": "code",
   "execution_count": 31,
   "id": "3c9ac2c9",
   "metadata": {},
   "outputs": [
    {
     "data": {
      "application/javascript": [
       "\n",
       "        if (window._pyforest_update_imports_cell) { window._pyforest_update_imports_cell('import numpy as np\\nimport pandas as pd'); }\n",
       "    "
      ],
      "text/plain": [
       "<IPython.core.display.Javascript object>"
      ]
     },
     "metadata": {},
     "output_type": "display_data"
    },
    {
     "data": {
      "application/javascript": [
       "\n",
       "        if (window._pyforest_update_imports_cell) { window._pyforest_update_imports_cell('import numpy as np\\nimport pandas as pd'); }\n",
       "    "
      ],
      "text/plain": [
       "<IPython.core.display.Javascript object>"
      ]
     },
     "metadata": {},
     "output_type": "display_data"
    },
    {
     "data": {
      "application/javascript": [
       "\n",
       "        if (window._pyforest_update_imports_cell) { window._pyforest_update_imports_cell('import numpy as np\\nimport pandas as pd'); }\n",
       "    "
      ],
      "text/plain": [
       "<IPython.core.display.Javascript object>"
      ]
     },
     "metadata": {},
     "output_type": "display_data"
    },
    {
     "data": {
      "application/javascript": [
       "\n",
       "        if (window._pyforest_update_imports_cell) { window._pyforest_update_imports_cell('import numpy as np\\nimport pandas as pd'); }\n",
       "    "
      ],
      "text/plain": [
       "<IPython.core.display.Javascript object>"
      ]
     },
     "metadata": {},
     "output_type": "display_data"
    },
    {
     "data": {
      "application/javascript": [
       "\n",
       "        if (window._pyforest_update_imports_cell) { window._pyforest_update_imports_cell('import numpy as np\\nimport pandas as pd'); }\n",
       "    "
      ],
      "text/plain": [
       "<IPython.core.display.Javascript object>"
      ]
     },
     "metadata": {},
     "output_type": "display_data"
    },
    {
     "data": {
      "application/javascript": [
       "\n",
       "        if (window._pyforest_update_imports_cell) { window._pyforest_update_imports_cell('import numpy as np\\nimport pandas as pd'); }\n",
       "    "
      ],
      "text/plain": [
       "<IPython.core.display.Javascript object>"
      ]
     },
     "metadata": {},
     "output_type": "display_data"
    },
    {
     "data": {
      "application/javascript": [
       "\n",
       "        if (window._pyforest_update_imports_cell) { window._pyforest_update_imports_cell('import numpy as np\\nimport pandas as pd'); }\n",
       "    "
      ],
      "text/plain": [
       "<IPython.core.display.Javascript object>"
      ]
     },
     "metadata": {},
     "output_type": "display_data"
    },
    {
     "data": {
      "application/javascript": [
       "\n",
       "        if (window._pyforest_update_imports_cell) { window._pyforest_update_imports_cell('import numpy as np\\nimport pandas as pd'); }\n",
       "    "
      ],
      "text/plain": [
       "<IPython.core.display.Javascript object>"
      ]
     },
     "metadata": {},
     "output_type": "display_data"
    },
    {
     "data": {
      "application/javascript": [
       "\n",
       "        if (window._pyforest_update_imports_cell) { window._pyforest_update_imports_cell('import numpy as np\\nimport pandas as pd'); }\n",
       "    "
      ],
      "text/plain": [
       "<IPython.core.display.Javascript object>"
      ]
     },
     "metadata": {},
     "output_type": "display_data"
    },
    {
     "data": {
      "application/javascript": [
       "\n",
       "        if (window._pyforest_update_imports_cell) { window._pyforest_update_imports_cell('import numpy as np\\nimport pandas as pd'); }\n",
       "    "
      ],
      "text/plain": [
       "<IPython.core.display.Javascript object>"
      ]
     },
     "metadata": {},
     "output_type": "display_data"
    },
    {
     "data": {
      "application/javascript": [
       "\n",
       "        if (window._pyforest_update_imports_cell) { window._pyforest_update_imports_cell('import numpy as np\\nimport pandas as pd'); }\n",
       "    "
      ],
      "text/plain": [
       "<IPython.core.display.Javascript object>"
      ]
     },
     "metadata": {},
     "output_type": "display_data"
    },
    {
     "data": {
      "application/javascript": [
       "\n",
       "        if (window._pyforest_update_imports_cell) { window._pyforest_update_imports_cell('import numpy as np\\nimport pandas as pd'); }\n",
       "    "
      ],
      "text/plain": [
       "<IPython.core.display.Javascript object>"
      ]
     },
     "metadata": {},
     "output_type": "display_data"
    },
    {
     "data": {
      "application/javascript": [
       "\n",
       "        if (window._pyforest_update_imports_cell) { window._pyforest_update_imports_cell('import numpy as np\\nimport pandas as pd'); }\n",
       "    "
      ],
      "text/plain": [
       "<IPython.core.display.Javascript object>"
      ]
     },
     "metadata": {},
     "output_type": "display_data"
    },
    {
     "data": {
      "application/javascript": [
       "\n",
       "        if (window._pyforest_update_imports_cell) { window._pyforest_update_imports_cell('import numpy as np\\nimport pandas as pd'); }\n",
       "    "
      ],
      "text/plain": [
       "<IPython.core.display.Javascript object>"
      ]
     },
     "metadata": {},
     "output_type": "display_data"
    },
    {
     "data": {
      "application/javascript": [
       "\n",
       "        if (window._pyforest_update_imports_cell) { window._pyforest_update_imports_cell('import numpy as np\\nimport pandas as pd'); }\n",
       "    "
      ],
      "text/plain": [
       "<IPython.core.display.Javascript object>"
      ]
     },
     "metadata": {},
     "output_type": "display_data"
    },
    {
     "data": {
      "application/javascript": [
       "\n",
       "        if (window._pyforest_update_imports_cell) { window._pyforest_update_imports_cell('import numpy as np\\nimport pandas as pd'); }\n",
       "    "
      ],
      "text/plain": [
       "<IPython.core.display.Javascript object>"
      ]
     },
     "metadata": {},
     "output_type": "display_data"
    },
    {
     "data": {
      "application/javascript": [
       "\n",
       "        if (window._pyforest_update_imports_cell) { window._pyforest_update_imports_cell('import numpy as np\\nimport pandas as pd'); }\n",
       "    "
      ],
      "text/plain": [
       "<IPython.core.display.Javascript object>"
      ]
     },
     "metadata": {},
     "output_type": "display_data"
    },
    {
     "data": {
      "application/javascript": [
       "\n",
       "        if (window._pyforest_update_imports_cell) { window._pyforest_update_imports_cell('import numpy as np\\nimport pandas as pd'); }\n",
       "    "
      ],
      "text/plain": [
       "<IPython.core.display.Javascript object>"
      ]
     },
     "metadata": {},
     "output_type": "display_data"
    },
    {
     "data": {
      "application/javascript": [
       "\n",
       "        if (window._pyforest_update_imports_cell) { window._pyforest_update_imports_cell('import numpy as np\\nimport pandas as pd'); }\n",
       "    "
      ],
      "text/plain": [
       "<IPython.core.display.Javascript object>"
      ]
     },
     "metadata": {},
     "output_type": "display_data"
    },
    {
     "data": {
      "application/javascript": [
       "\n",
       "        if (window._pyforest_update_imports_cell) { window._pyforest_update_imports_cell('import numpy as np\\nimport pandas as pd'); }\n",
       "    "
      ],
      "text/plain": [
       "<IPython.core.display.Javascript object>"
      ]
     },
     "metadata": {},
     "output_type": "display_data"
    },
    {
     "data": {
      "application/javascript": [
       "\n",
       "        if (window._pyforest_update_imports_cell) { window._pyforest_update_imports_cell('import numpy as np\\nimport pandas as pd'); }\n",
       "    "
      ],
      "text/plain": [
       "<IPython.core.display.Javascript object>"
      ]
     },
     "metadata": {},
     "output_type": "display_data"
    },
    {
     "data": {
      "application/javascript": [
       "\n",
       "        if (window._pyforest_update_imports_cell) { window._pyforest_update_imports_cell('import numpy as np\\nimport pandas as pd'); }\n",
       "    "
      ],
      "text/plain": [
       "<IPython.core.display.Javascript object>"
      ]
     },
     "metadata": {},
     "output_type": "display_data"
    },
    {
     "data": {
      "application/javascript": [
       "\n",
       "        if (window._pyforest_update_imports_cell) { window._pyforest_update_imports_cell('import numpy as np\\nimport pandas as pd'); }\n",
       "    "
      ],
      "text/plain": [
       "<IPython.core.display.Javascript object>"
      ]
     },
     "metadata": {},
     "output_type": "display_data"
    },
    {
     "data": {
      "application/javascript": [
       "\n",
       "        if (window._pyforest_update_imports_cell) { window._pyforest_update_imports_cell('import numpy as np\\nimport pandas as pd'); }\n",
       "    "
      ],
      "text/plain": [
       "<IPython.core.display.Javascript object>"
      ]
     },
     "metadata": {},
     "output_type": "display_data"
    },
    {
     "data": {
      "application/javascript": [
       "\n",
       "        if (window._pyforest_update_imports_cell) { window._pyforest_update_imports_cell('import numpy as np\\nimport pandas as pd'); }\n",
       "    "
      ],
      "text/plain": [
       "<IPython.core.display.Javascript object>"
      ]
     },
     "metadata": {},
     "output_type": "display_data"
    },
    {
     "data": {
      "application/javascript": [
       "\n",
       "        if (window._pyforest_update_imports_cell) { window._pyforest_update_imports_cell('import numpy as np\\nimport pandas as pd'); }\n",
       "    "
      ],
      "text/plain": [
       "<IPython.core.display.Javascript object>"
      ]
     },
     "metadata": {},
     "output_type": "display_data"
    },
    {
     "data": {
      "application/javascript": [
       "\n",
       "        if (window._pyforest_update_imports_cell) { window._pyforest_update_imports_cell('import numpy as np\\nimport pandas as pd'); }\n",
       "    "
      ],
      "text/plain": [
       "<IPython.core.display.Javascript object>"
      ]
     },
     "metadata": {},
     "output_type": "display_data"
    },
    {
     "data": {
      "application/javascript": [
       "\n",
       "        if (window._pyforest_update_imports_cell) { window._pyforest_update_imports_cell('import numpy as np\\nimport pandas as pd'); }\n",
       "    "
      ],
      "text/plain": [
       "<IPython.core.display.Javascript object>"
      ]
     },
     "metadata": {},
     "output_type": "display_data"
    },
    {
     "data": {
      "application/javascript": [
       "\n",
       "        if (window._pyforest_update_imports_cell) { window._pyforest_update_imports_cell('import numpy as np\\nimport pandas as pd'); }\n",
       "    "
      ],
      "text/plain": [
       "<IPython.core.display.Javascript object>"
      ]
     },
     "metadata": {},
     "output_type": "display_data"
    },
    {
     "data": {
      "application/javascript": [
       "\n",
       "        if (window._pyforest_update_imports_cell) { window._pyforest_update_imports_cell('import numpy as np\\nimport pandas as pd'); }\n",
       "    "
      ],
      "text/plain": [
       "<IPython.core.display.Javascript object>"
      ]
     },
     "metadata": {},
     "output_type": "display_data"
    },
    {
     "data": {
      "application/javascript": [
       "\n",
       "        if (window._pyforest_update_imports_cell) { window._pyforest_update_imports_cell('import numpy as np\\nimport pandas as pd'); }\n",
       "    "
      ],
      "text/plain": [
       "<IPython.core.display.Javascript object>"
      ]
     },
     "metadata": {},
     "output_type": "display_data"
    },
    {
     "data": {
      "application/javascript": [
       "\n",
       "        if (window._pyforest_update_imports_cell) { window._pyforest_update_imports_cell('import numpy as np\\nimport pandas as pd'); }\n",
       "    "
      ],
      "text/plain": [
       "<IPython.core.display.Javascript object>"
      ]
     },
     "metadata": {},
     "output_type": "display_data"
    },
    {
     "data": {
      "application/javascript": [
       "\n",
       "        if (window._pyforest_update_imports_cell) { window._pyforest_update_imports_cell('import numpy as np\\nimport pandas as pd'); }\n",
       "    "
      ],
      "text/plain": [
       "<IPython.core.display.Javascript object>"
      ]
     },
     "metadata": {},
     "output_type": "display_data"
    },
    {
     "data": {
      "application/javascript": [
       "\n",
       "        if (window._pyforest_update_imports_cell) { window._pyforest_update_imports_cell('import numpy as np\\nimport pandas as pd'); }\n",
       "    "
      ],
      "text/plain": [
       "<IPython.core.display.Javascript object>"
      ]
     },
     "metadata": {},
     "output_type": "display_data"
    },
    {
     "data": {
      "application/javascript": [
       "\n",
       "        if (window._pyforest_update_imports_cell) { window._pyforest_update_imports_cell('import numpy as np\\nimport pandas as pd'); }\n",
       "    "
      ],
      "text/plain": [
       "<IPython.core.display.Javascript object>"
      ]
     },
     "metadata": {},
     "output_type": "display_data"
    },
    {
     "data": {
      "application/javascript": [
       "\n",
       "        if (window._pyforest_update_imports_cell) { window._pyforest_update_imports_cell('import numpy as np\\nimport pandas as pd'); }\n",
       "    "
      ],
      "text/plain": [
       "<IPython.core.display.Javascript object>"
      ]
     },
     "metadata": {},
     "output_type": "display_data"
    },
    {
     "data": {
      "application/javascript": [
       "\n",
       "        if (window._pyforest_update_imports_cell) { window._pyforest_update_imports_cell('import numpy as np\\nimport pandas as pd'); }\n",
       "    "
      ],
      "text/plain": [
       "<IPython.core.display.Javascript object>"
      ]
     },
     "metadata": {},
     "output_type": "display_data"
    },
    {
     "data": {
      "application/javascript": [
       "\n",
       "        if (window._pyforest_update_imports_cell) { window._pyforest_update_imports_cell('import numpy as np\\nimport pandas as pd'); }\n",
       "    "
      ],
      "text/plain": [
       "<IPython.core.display.Javascript object>"
      ]
     },
     "metadata": {},
     "output_type": "display_data"
    },
    {
     "data": {
      "application/javascript": [
       "\n",
       "        if (window._pyforest_update_imports_cell) { window._pyforest_update_imports_cell('import numpy as np\\nimport pandas as pd'); }\n",
       "    "
      ],
      "text/plain": [
       "<IPython.core.display.Javascript object>"
      ]
     },
     "metadata": {},
     "output_type": "display_data"
    },
    {
     "data": {
      "application/javascript": [
       "\n",
       "        if (window._pyforest_update_imports_cell) { window._pyforest_update_imports_cell('import numpy as np\\nimport pandas as pd'); }\n",
       "    "
      ],
      "text/plain": [
       "<IPython.core.display.Javascript object>"
      ]
     },
     "metadata": {},
     "output_type": "display_data"
    },
    {
     "data": {
      "application/javascript": [
       "\n",
       "        if (window._pyforest_update_imports_cell) { window._pyforest_update_imports_cell('import numpy as np\\nimport pandas as pd'); }\n",
       "    "
      ],
      "text/plain": [
       "<IPython.core.display.Javascript object>"
      ]
     },
     "metadata": {},
     "output_type": "display_data"
    },
    {
     "data": {
      "application/javascript": [
       "\n",
       "        if (window._pyforest_update_imports_cell) { window._pyforest_update_imports_cell('import numpy as np\\nimport pandas as pd'); }\n",
       "    "
      ],
      "text/plain": [
       "<IPython.core.display.Javascript object>"
      ]
     },
     "metadata": {},
     "output_type": "display_data"
    },
    {
     "data": {
      "application/javascript": [
       "\n",
       "        if (window._pyforest_update_imports_cell) { window._pyforest_update_imports_cell('import numpy as np\\nimport pandas as pd'); }\n",
       "    "
      ],
      "text/plain": [
       "<IPython.core.display.Javascript object>"
      ]
     },
     "metadata": {},
     "output_type": "display_data"
    },
    {
     "data": {
      "application/javascript": [
       "\n",
       "        if (window._pyforest_update_imports_cell) { window._pyforest_update_imports_cell('import numpy as np\\nimport pandas as pd'); }\n",
       "    "
      ],
      "text/plain": [
       "<IPython.core.display.Javascript object>"
      ]
     },
     "metadata": {},
     "output_type": "display_data"
    },
    {
     "data": {
      "application/javascript": [
       "\n",
       "        if (window._pyforest_update_imports_cell) { window._pyforest_update_imports_cell('import numpy as np\\nimport pandas as pd'); }\n",
       "    "
      ],
      "text/plain": [
       "<IPython.core.display.Javascript object>"
      ]
     },
     "metadata": {},
     "output_type": "display_data"
    },
    {
     "data": {
      "application/javascript": [
       "\n",
       "        if (window._pyforest_update_imports_cell) { window._pyforest_update_imports_cell('import numpy as np\\nimport pandas as pd'); }\n",
       "    "
      ],
      "text/plain": [
       "<IPython.core.display.Javascript object>"
      ]
     },
     "metadata": {},
     "output_type": "display_data"
    },
    {
     "data": {
      "application/javascript": [
       "\n",
       "        if (window._pyforest_update_imports_cell) { window._pyforest_update_imports_cell('import numpy as np\\nimport pandas as pd'); }\n",
       "    "
      ],
      "text/plain": [
       "<IPython.core.display.Javascript object>"
      ]
     },
     "metadata": {},
     "output_type": "display_data"
    },
    {
     "data": {
      "application/javascript": [
       "\n",
       "        if (window._pyforest_update_imports_cell) { window._pyforest_update_imports_cell('import numpy as np\\nimport pandas as pd'); }\n",
       "    "
      ],
      "text/plain": [
       "<IPython.core.display.Javascript object>"
      ]
     },
     "metadata": {},
     "output_type": "display_data"
    },
    {
     "data": {
      "application/javascript": [
       "\n",
       "        if (window._pyforest_update_imports_cell) { window._pyforest_update_imports_cell('import numpy as np\\nimport pandas as pd'); }\n",
       "    "
      ],
      "text/plain": [
       "<IPython.core.display.Javascript object>"
      ]
     },
     "metadata": {},
     "output_type": "display_data"
    },
    {
     "data": {
      "application/javascript": [
       "\n",
       "        if (window._pyforest_update_imports_cell) { window._pyforest_update_imports_cell('import numpy as np\\nimport pandas as pd'); }\n",
       "    "
      ],
      "text/plain": [
       "<IPython.core.display.Javascript object>"
      ]
     },
     "metadata": {},
     "output_type": "display_data"
    },
    {
     "data": {
      "application/javascript": [
       "\n",
       "        if (window._pyforest_update_imports_cell) { window._pyforest_update_imports_cell('import numpy as np\\nimport pandas as pd'); }\n",
       "    "
      ],
      "text/plain": [
       "<IPython.core.display.Javascript object>"
      ]
     },
     "metadata": {},
     "output_type": "display_data"
    },
    {
     "data": {
      "application/javascript": [
       "\n",
       "        if (window._pyforest_update_imports_cell) { window._pyforest_update_imports_cell('import numpy as np\\nimport pandas as pd'); }\n",
       "    "
      ],
      "text/plain": [
       "<IPython.core.display.Javascript object>"
      ]
     },
     "metadata": {},
     "output_type": "display_data"
    },
    {
     "data": {
      "application/javascript": [
       "\n",
       "        if (window._pyforest_update_imports_cell) { window._pyforest_update_imports_cell('import numpy as np\\nimport pandas as pd'); }\n",
       "    "
      ],
      "text/plain": [
       "<IPython.core.display.Javascript object>"
      ]
     },
     "metadata": {},
     "output_type": "display_data"
    },
    {
     "data": {
      "application/javascript": [
       "\n",
       "        if (window._pyforest_update_imports_cell) { window._pyforest_update_imports_cell('import numpy as np\\nimport pandas as pd'); }\n",
       "    "
      ],
      "text/plain": [
       "<IPython.core.display.Javascript object>"
      ]
     },
     "metadata": {},
     "output_type": "display_data"
    },
    {
     "data": {
      "application/javascript": [
       "\n",
       "        if (window._pyforest_update_imports_cell) { window._pyforest_update_imports_cell('import numpy as np\\nimport pandas as pd'); }\n",
       "    "
      ],
      "text/plain": [
       "<IPython.core.display.Javascript object>"
      ]
     },
     "metadata": {},
     "output_type": "display_data"
    },
    {
     "data": {
      "application/javascript": [
       "\n",
       "        if (window._pyforest_update_imports_cell) { window._pyforest_update_imports_cell('import numpy as np\\nimport pandas as pd'); }\n",
       "    "
      ],
      "text/plain": [
       "<IPython.core.display.Javascript object>"
      ]
     },
     "metadata": {},
     "output_type": "display_data"
    },
    {
     "data": {
      "application/javascript": [
       "\n",
       "        if (window._pyforest_update_imports_cell) { window._pyforest_update_imports_cell('import numpy as np\\nimport pandas as pd'); }\n",
       "    "
      ],
      "text/plain": [
       "<IPython.core.display.Javascript object>"
      ]
     },
     "metadata": {},
     "output_type": "display_data"
    },
    {
     "data": {
      "application/javascript": [
       "\n",
       "        if (window._pyforest_update_imports_cell) { window._pyforest_update_imports_cell('import numpy as np\\nimport pandas as pd'); }\n",
       "    "
      ],
      "text/plain": [
       "<IPython.core.display.Javascript object>"
      ]
     },
     "metadata": {},
     "output_type": "display_data"
    },
    {
     "data": {
      "application/javascript": [
       "\n",
       "        if (window._pyforest_update_imports_cell) { window._pyforest_update_imports_cell('import numpy as np\\nimport pandas as pd'); }\n",
       "    "
      ],
      "text/plain": [
       "<IPython.core.display.Javascript object>"
      ]
     },
     "metadata": {},
     "output_type": "display_data"
    },
    {
     "data": {
      "application/javascript": [
       "\n",
       "        if (window._pyforest_update_imports_cell) { window._pyforest_update_imports_cell('import numpy as np\\nimport pandas as pd'); }\n",
       "    "
      ],
      "text/plain": [
       "<IPython.core.display.Javascript object>"
      ]
     },
     "metadata": {},
     "output_type": "display_data"
    },
    {
     "data": {
      "application/javascript": [
       "\n",
       "        if (window._pyforest_update_imports_cell) { window._pyforest_update_imports_cell('import numpy as np\\nimport pandas as pd'); }\n",
       "    "
      ],
      "text/plain": [
       "<IPython.core.display.Javascript object>"
      ]
     },
     "metadata": {},
     "output_type": "display_data"
    },
    {
     "data": {
      "application/javascript": [
       "\n",
       "        if (window._pyforest_update_imports_cell) { window._pyforest_update_imports_cell('import numpy as np\\nimport pandas as pd'); }\n",
       "    "
      ],
      "text/plain": [
       "<IPython.core.display.Javascript object>"
      ]
     },
     "metadata": {},
     "output_type": "display_data"
    }
   ],
   "source": [
    "names = []\n",
    "prices = []\n",
    "ratings = []\n",
    "sim = []\n",
    "processor = []\n",
    "ram = []\n",
    "battery = []\n",
    "display = []\n",
    "camera = []\n",
    "card = []\n",
    "os = []\n",
    "\n",
    "for i in containers:\n",
    "    try:\n",
    "        names.append(i.find('h2').text)\n",
    "    except:\n",
    "        names.append(np.nan)\n",
    "    try:\n",
    "        prices.append(i.find('span',{'class':'price'}).text)\n",
    "    except:\n",
    "        price.append(np.nan)\n",
    "    try:\n",
    "        ratings.append(i.find('div',{'class':'score rank-2-bg'}).find('b').text)\n",
    "    except:\n",
    "        ratings.append(np.nan)\n",
    "        \n",
    "    x = i.find('ul',{'class':'sm-feat specs'}).find_all('li')\n",
    "    try:\n",
    "        sim.append(x[0].text)\n",
    "    except:\n",
    "        sim.append(np.nan)\n",
    "    try:\n",
    "        processor.append(x[1].text)\n",
    "    except:\n",
    "        processor.append(np.nan)\n",
    "    try:    \n",
    "        ram.append(x[2].text)\n",
    "    except:\n",
    "        ram.append(np.nan)\n",
    "    try:\n",
    "        battery.append(x[3].text)\n",
    "    except:\n",
    "        battery.append(np.nan)\n",
    "    try:\n",
    "        display.append(x[4].text)\n",
    "    except:\n",
    "        display.append(np.nan)\n",
    "    try:\n",
    "        camera.append(x[5].text)\n",
    "    except:\n",
    "        camera.append(np.nan)\n",
    "    try:\n",
    "        card.append(x[6].text)\n",
    "    except:\n",
    "        card.append(np.nan)\n",
    "    try:\n",
    "        os.append(x[7].text)\n",
    "    except:\n",
    "        os.append(np.nan)"
   ]
  },
  {
   "cell_type": "code",
   "execution_count": 32,
   "id": "b743966e",
   "metadata": {},
   "outputs": [
    {
     "name": "stdout",
     "output_type": "stream",
     "text": [
      "Dual Sim, 3G, 4G, 5G, VoLTE, Wi-Fi\n",
      "Dual Sim, 3G, 4G, 5G, VoLTE, Wi-Fi\n",
      "Dual Sim, 3G, 4G, 5G, VoLTE, Wi-Fi\n",
      "Dual Sim, 3G, 4G, 5G, VoLTE, Wi-Fi\n",
      "Dual Sim, 3G, 4G, 5G, VoLTE, Wi-Fi, NFC\n",
      "Dual Sim, 3G, 4G, 5G, VoLTE, Wi-Fi, NFC\n",
      "Dual Sim, 3G, 4G, 5G, VoLTE, Wi-Fi, IR Blaster\n",
      "Dual Sim, 3G, 4G, 5G, VoLTE, Wi-Fi, NFC\n",
      "Dual Sim, 3G, 4G, 5G, VoLTE, Wi-Fi, NFC\n",
      "Dual Sim, 3G, 4G, 5G, VoLTE, Wi-Fi\n",
      "Dual Sim, 3G, 4G, 5G, VoLTE, Wi-Fi\n",
      "Dual Sim, 3G, 4G, 5G, VoLTE, Wi-Fi, IR Blaster\n",
      "Dual Sim, 3G, 4G, 5G, VoLTE, Wi-Fi, NFC\n",
      "Dual Sim, 3G, 4G, 5G, VoLTE, Wi-Fi, NFC\n",
      "Dual Sim, 3G, 4G, 5G, VoLTE, Wi-Fi, NFC\n",
      "Dual Sim, 3G, 4G, VoLTE, Wi-Fi\n",
      "Dual Sim, 3G, 4G, 5G, VoLTE, Wi-Fi, NFC\n",
      "Dual Sim, 3G, 4G, 5G, VoLTE, Wi-Fi, IR Blaster\n",
      "Dual Sim, 3G, 4G, 5G, VoLTE, Wi-Fi\n",
      "Dual Sim, 3G, 4G, 5G, VoLTE, Wi-Fi\n",
      "Dual Sim, 3G, 4G, VoLTE, Wi-Fi\n",
      "Dual Sim, 3G, 4G, 5G, VoLTE, Wi-Fi, NFC\n",
      "Dual Sim, 3G, 4G, 5G, VoLTE, Wi-Fi, IR Blaster\n",
      "Dual Sim, 3G, 4G, VoLTE, Wi-Fi, NFC\n",
      "Dual Sim, 3G, 4G, 5G, VoLTE, Wi-Fi\n",
      "Dual Sim, 3G, 4G, 5G, VoLTE, Wi-Fi\n",
      "Dual Sim, 3G, 4G, 5G, VoLTE, Wi-Fi, NFC\n",
      "Dual Sim, 3G, 4G, 5G, VoLTE, Wi-Fi\n",
      "Dual Sim, 3G, 4G, 5G, VoLTE, Wi-Fi, NFC\n",
      "Dual Sim, 3G, 4G, 5G, VoLTE, Wi-Fi, NFC\n",
      "Dual Sim, 3G, 4G, 5G, VoLTE, Wi-Fi\n",
      "Dual Sim, 3G, 4G, 5G, VoLTE, Wi-Fi, IR Blaster\n",
      "Dual Sim, 3G, 4G, VoLTE, Wi-Fi\n",
      "Dual Sim, 3G, 4G, VoLTE, Wi-Fi, IR Blaster\n",
      "Dual Sim, 3G, 4G, VoLTE, Wi-Fi\n",
      "Dual Sim, 3G, 4G, VoLTE, Wi-Fi\n",
      "Dual Sim, 3G, 4G, 5G, VoLTE, Wi-Fi, NFC\n",
      "Dual Sim, 3G, 4G, 5G, VoLTE, Wi-Fi, NFC\n",
      "Dual Sim, 3G, 4G, 5G, VoLTE, Wi-Fi\n",
      "Dual Sim, 3G, 4G, 5G, VoLTE, Wi-Fi\n",
      "Dual Sim, 3G, 4G, VoLTE, Wi-Fi, IR Blaster\n",
      "Dual Sim, 3G, 4G, VoLTE, Wi-Fi\n",
      "Dual Sim, 3G, 4G, 5G, VoLTE, Wi-Fi, NFC\n",
      "Dual Sim, 3G, 4G, 5G, VoLTE, Wi-Fi, NFC\n",
      "Dual Sim, 3G, 4G, 5G, VoLTE, Wi-Fi, IR Blaster\n",
      "Dual Sim, 3G, 4G, VoLTE, Wi-Fi\n",
      "Dual Sim, 3G, 4G, VoLTE, Wi-Fi\n",
      "Dual Sim, 3G, 4G, 5G, VoLTE, Wi-Fi, IR Blaster\n",
      "Dual Sim, 3G, 4G, 5G, VoLTE, Wi-Fi\n",
      "Dual Sim, 3G, 4G, 5G, VoLTE, Wi-Fi, NFC\n",
      "Dual Sim, 3G, 4G, 5G, VoLTE, Wi-Fi\n",
      "Dual Sim, 3G, 4G, 5G, VoLTE, Wi-Fi, IR Blaster\n",
      "Dual Sim, 3G, 4G, 5G, VoLTE, Wi-Fi, NFC\n",
      "Dual Sim, 3G, 4G, VoLTE, Wi-Fi\n",
      "Dual Sim, 3G, 4G, 5G, VoLTE, Wi-Fi\n",
      "Dual Sim, 3G, 4G, 5G, VoLTE, Wi-Fi\n",
      "Dual Sim, 3G, 4G, VoLTE, Wi-Fi\n",
      "Dual Sim, 3G, 4G, VoLTE, Wi-Fi\n",
      "Dual Sim, 3G, 4G, 5G, VoLTE, Wi-Fi, NFC\n",
      "Dual Sim, 3G, 4G, VoLTE, Wi-Fi\n",
      "Dual Sim, 3G, 4G, 5G, VoLTE, Wi-Fi\n",
      "Dual Sim, 3G, 4G, VoLTE, Wi-Fi, IR Blaster\n",
      "Dual Sim, 3G, 4G, VoLTE, Wi-Fi, NFC\n",
      "Dual Sim, 3G, 4G, 5G, VoLTE, Wi-Fi, NFC\n",
      "Dual Sim, 3G, 4G, 5G, VoLTE, Wi-Fi\n",
      "Dual Sim, 3G, 4G, 5G, VoLTE, Wi-Fi, NFC\n",
      "Dual Sim, 3G, 4G, 5G, VoLTE, Wi-Fi, NFC\n",
      "Dual Sim, 3G, 4G, 5G, VoLTE, Wi-Fi\n",
      "Dual Sim, 3G, 4G, VoLTE, Wi-Fi\n",
      "Dual Sim, 3G, 4G, 5G, VoLTE, Wi-Fi\n",
      "Dual Sim, 3G, 4G, 5G, VoLTE, Wi-Fi\n",
      "Dual Sim, 3G, 4G, 5G, VoLTE, Wi-Fi\n",
      "Dual Sim, 3G, 4G, 5G, VoLTE, Wi-Fi\n",
      "Dual Sim, 3G, 4G, VoLTE, Wi-Fi\n",
      "Dual Sim, 3G, 4G, 5G, VoLTE, Wi-Fi, NFC\n",
      "Dual Sim, 3G, 4G, 5G, VoLTE, Wi-Fi, NFC\n",
      "Dual Sim, 3G, 4G, VoLTE, Wi-Fi\n",
      "Dual Sim, 3G, 4G, 5G, VoLTE, Wi-Fi, NFC\n",
      "Dual Sim, 3G, 4G, 5G, VoLTE, Wi-Fi\n",
      "Dual Sim, 3G, 4G, 5G, VoLTE, Wi-Fi, NFC\n",
      "Dual Sim, 3G, 4G, 5G, VoLTE, Wi-Fi, NFC\n",
      "Dual Sim, 3G, 4G, 5G, VoLTE, Wi-Fi, NFC\n",
      "Dual Sim, 3G, 4G, 5G, VoLTE, Wi-Fi\n",
      "Dual Sim, 3G, 4G, 5G, VoLTE, Wi-Fi, NFC\n",
      "Dual Sim, 3G, 4G, 5G, VoLTE, Wi-Fi\n",
      "Dual Sim, 3G, 4G, 5G, VoLTE, Wi-Fi, NFC\n",
      "Dual Sim, 3G, 4G, 5G, VoLTE, Wi-Fi, IR Blaster\n",
      "Dual Sim, 3G, 4G, VoLTE, Wi-Fi\n",
      "Dual Sim, 3G, 4G, 5G, VoLTE, Wi-Fi, NFC\n",
      "Dual Sim, 3G, 4G, 5G, VoLTE, Wi-Fi\n",
      "Dual Sim, 3G, 4G, VoLTE, Wi-Fi\n",
      "Dual Sim, 3G, 4G, VoLTE, Wi-Fi, IR Blaster\n",
      "Dual Sim, 3G, 4G, 5G, VoLTE, Wi-Fi, NFC\n",
      "Dual Sim, 3G, 4G, 5G, VoLTE, Wi-Fi, IR Blaster\n",
      "Dual Sim, 3G, 4G, 5G, VoLTE, Wi-Fi\n",
      "Dual Sim, 3G, 4G, VoLTE, Wi-Fi\n",
      "Dual Sim, 3G, 4G, 5G, VoLTE, Wi-Fi, IR Blaster\n",
      "Dual Sim, 3G, 4G, 5G, VoLTE, Wi-Fi, NFC\n",
      "Dual Sim, 3G, 4G, VoLTE, Wi-Fi\n",
      "Dual Sim, 3G, 4G, 5G, VoLTE, Wi-Fi, IR Blaster\n",
      "Dual Sim, 3G, 4G, 5G, VoLTE, Wi-Fi, NFC\n",
      "Dual Sim, 3G, 4G, VoLTE, Wi-Fi\n",
      "Dual Sim, 3G, 4G, 5G, VoLTE, Wi-Fi, NFC\n",
      "Dual Sim, 3G, 4G, VoLTE, Wi-Fi, NFC\n",
      "Dual Sim, 3G, 4G, 5G, VoLTE, Wi-Fi, IR Blaster\n",
      "Dual Sim, 3G, 4G, 5G, VoLTE, Wi-Fi, NFC\n",
      "Dual Sim, 3G, 4G, 5G, VoLTE, Wi-Fi, NFC\n",
      "Dual Sim, 3G, 4G, VoLTE, Wi-Fi\n",
      "Dual Sim, 3G, 4G, VoLTE, Wi-Fi\n",
      "Dual Sim, 3G, 4G, VoLTE, Wi-Fi, NFC\n",
      "Dual Sim, 3G, 4G, 5G, VoLTE, Wi-Fi\n",
      "Dual Sim, 3G, 4G, 5G, VoLTE, Wi-Fi, IR Blaster\n",
      "Dual Sim, 3G, 4G, VoLTE, Wi-Fi\n",
      "Dual Sim, 3G, 4G, 5G, VoLTE, Wi-Fi\n",
      "Dual Sim, 3G, 4G, VoLTE, Wi-Fi, NFC\n",
      "Dual Sim, 3G, 4G, 5G, VoLTE, Wi-Fi, NFC\n",
      "Dual Sim, 3G, 4G, VoLTE, Wi-Fi, NFC\n",
      "Dual Sim, 3G, 4G, 5G, VoLTE, Wi-Fi, IR Blaster\n",
      "Dual Sim, 3G, 4G, VoLTE, Wi-Fi\n",
      "Dual Sim, 3G, 4G, 5G, VoLTE, Wi-Fi, NFC\n",
      "Dual Sim, 3G, 4G, 5G, VoLTE, Wi-Fi\n",
      "Dual Sim, 3G, 4G, 5G, VoLTE, Wi-Fi\n",
      "Dual Sim, 3G, 4G, 5G, VoLTE, Wi-Fi\n",
      "Dual Sim, 3G, 4G, VoLTE, Wi-Fi, IR Blaster\n",
      "Dual Sim, 3G, 4G, 5G, VoLTE, Wi-Fi\n",
      "Dual Sim, 3G, 4G, 5G, VoLTE, Wi-Fi\n",
      "Dual Sim, 3G, 4G, VoLTE, Wi-Fi\n",
      "Dual Sim, 3G, 4G, 5G, VoLTE, Wi-Fi, NFC\n",
      "Dual Sim, 3G, 4G, VoLTE, Wi-Fi\n",
      "Dual Sim, 3G, 4G, VoLTE, Wi-Fi, IR Blaster\n",
      "Dual Sim, 3G, 4G, VoLTE, Wi-Fi, IR Blaster\n",
      "Dual Sim, 3G, 4G, 5G, VoLTE, Wi-Fi\n",
      "Dual Sim, 3G, 4G, 5G, VoLTE, Wi-Fi\n",
      "Dual Sim, 3G, 4G, 5G, VoLTE, Wi-Fi, NFC\n",
      "Dual Sim, 3G, 4G, VoLTE, Wi-Fi, NFC\n",
      "Dual Sim, 3G, 4G, VoLTE, Wi-Fi\n",
      "Dual Sim, 3G, 4G, VoLTE, Wi-Fi\n",
      "Dual Sim, 3G, 4G, 5G, VoLTE, Wi-Fi, IR Blaster\n",
      "Dual Sim, 3G, 4G, 5G, VoLTE, Wi-Fi\n",
      "Dual Sim, 3G, 4G, 5G, VoLTE, Wi-Fi, NFC\n",
      "Dual Sim, 3G, 4G, VoLTE, Wi-Fi\n",
      "Dual Sim, 3G, 4G, 5G, VoLTE, Wi-Fi, NFC\n",
      "Dual Sim, 3G, 4G, 5G, VoLTE, Wi-Fi, NFC\n",
      "Dual Sim, 3G, 4G, VoLTE, Wi-Fi\n",
      "Dual Sim, 3G, 4G, 5G, VoLTE, Wi-Fi, NFC\n",
      "Dual Sim, 3G, 4G, 5G, VoLTE, Wi-Fi, NFC\n",
      "Dual Sim, 3G, 4G, 5G, VoLTE, Wi-Fi, IR Blaster\n",
      "Dual Sim, 3G, 4G, 5G, VoLTE, Wi-Fi\n",
      "Dual Sim, 3G, 4G, VoLTE, Wi-Fi\n",
      "Dual Sim, 3G, 4G, 5G, VoLTE, Wi-Fi\n",
      "Dual Sim, 3G, 4G, VoLTE, Wi-Fi, IR Blaster\n",
      "Dual Sim, 3G, 4G, VoLTE, Wi-Fi\n",
      "Dual Sim, 3G, 4G, VoLTE, Wi-Fi\n",
      "Dual Sim, 3G, 4G, 5G, VoLTE, Wi-Fi\n",
      "Dual Sim, 3G, 4G, 5G, VoLTE, Wi-Fi\n",
      "Dual Sim, 3G, 4G, 5G, VoLTE, Wi-Fi\n",
      "Dual Sim, 3G, 4G, 5G, VoLTE, Wi-Fi\n",
      "Dual Sim, 3G, 4G, VoLTE, Wi-Fi, IR Blaster\n",
      "Dual Sim, 3G, 4G, 5G, VoLTE, Wi-Fi, IR Blaster\n",
      "Dual Sim, 3G, 4G, 5G, VoLTE, Wi-Fi, NFC\n",
      "Dual Sim, 3G, 4G, VoLTE, Wi-Fi\n",
      "Dual Sim, 3G, 4G, VoLTE, Wi-Fi\n",
      "Dual Sim, 3G, 4G, 5G, VoLTE, Wi-Fi, NFC\n",
      "Dual Sim, 3G, 4G, VoLTE, Wi-Fi\n",
      "Dual Sim, 3G, 4G, 5G, VoLTE, Wi-Fi, IR Blaster\n",
      "Dual Sim, 3G, 4G, VoLTE, Wi-Fi\n",
      "Dual Sim, 3G, 4G, 5G, VoLTE, Wi-Fi\n",
      "Dual Sim, 3G, 4G, 5G, VoLTE, Wi-Fi\n",
      "Dual Sim, 3G, 4G, VoLTE, Wi-Fi, NFC\n",
      "Dual Sim, 3G, 4G, 5G, VoLTE, Wi-Fi, NFC\n",
      "Dual Sim, 3G, 4G, 5G, VoLTE, Wi-Fi, NFC\n",
      "Dual Sim, 3G, 4G, 5G, VoLTE, Wi-Fi\n",
      "Dual Sim, 3G, 4G, VoLTE, Wi-Fi\n",
      "Dual Sim, 3G, 4G, VoLTE, Wi-Fi\n",
      "Dual Sim, 3G, 4G, VoLTE, Wi-Fi\n",
      "Dual Sim, 3G, 4G, 5G, VoLTE, Wi-Fi, IR Blaster\n",
      "Dual Sim, 3G, 4G, 5G, VoLTE, Wi-Fi, NFC, IR Blaster\n",
      "Dual Sim, 3G, 4G, 5G, VoLTE, Wi-Fi\n",
      "Dual Sim, 3G, 4G, VoLTE, Wi-Fi\n",
      "Dual Sim, 3G, 4G, 5G, VoLTE, Wi-Fi, NFC\n",
      "Dual Sim, 3G, 4G, VoLTE, Wi-Fi\n",
      "Dual Sim, 3G, 4G, 5G, VoLTE, Wi-Fi, NFC\n",
      "Dual Sim, 3G, 4G, 5G, VoLTE, Wi-Fi, NFC\n",
      "Dual Sim, 3G, 4G, 5G, VoLTE, Wi-Fi\n",
      "Dual Sim, 3G, 4G, 5G, VoLTE, Wi-Fi, NFC\n",
      "Dual Sim, 3G, 4G, VoLTE, Wi-Fi\n",
      "Dual Sim, 3G, 4G, VoLTE, Wi-Fi\n",
      "Dual Sim, 3G, 4G, 5G, VoLTE, Wi-Fi, NFC\n",
      "Dual Sim, 3G, 4G, 5G, VoLTE, Wi-Fi, NFC\n",
      "Dual Sim, 3G, 4G, 5G, VoLTE, Wi-Fi, IR Blaster\n",
      "Dual Sim, 3G, 4G, 5G, VoLTE, Wi-Fi\n",
      "Dual Sim, 3G, 4G, 5G, VoLTE, Wi-Fi, NFC\n",
      "Dual Sim, 3G, 4G, VoLTE, Wi-Fi\n",
      "Dual Sim, 3G, 4G, 5G, VoLTE, Wi-Fi\n",
      "Dual Sim, 3G, 4G, VoLTE, Wi-Fi\n",
      "Dual Sim, 3G, 4G, 5G, VoLTE, Wi-Fi\n",
      "Dual Sim, 3G, 4G, 5G, VoLTE, Wi-Fi, NFC\n",
      "Dual Sim, 3G, 4G, 5G, VoLTE, Wi-Fi, IR Blaster\n",
      "Dual Sim, 3G, 4G, VoLTE, Wi-Fi\n",
      "Dual Sim, 3G, 4G, VoLTE, Wi-Fi\n",
      "Dual Sim, 3G, 4G, VoLTE, Wi-Fi\n",
      "Dual Sim, 3G, 4G, VoLTE, Wi-Fi\n",
      "Dual Sim, 3G, 4G, 5G, VoLTE, Wi-Fi, NFC\n",
      "Dual Sim, 3G, 4G, 5G, VoLTE, Wi-Fi, NFC\n",
      "Dual Sim, 3G, 4G, 5G, VoLTE, Wi-Fi, NFC\n",
      "Dual Sim, 3G, 4G, 5G, VoLTE, Wi-Fi, IR Blaster\n",
      "Dual Sim, 3G, 4G, VoLTE, Wi-Fi\n",
      "Dual Sim, 3G, 4G, 5G, VoLTE, Wi-Fi\n",
      "Dual Sim, 3G, 4G, 5G, VoLTE, Wi-Fi, IR Blaster\n",
      "Dual Sim, 3G, 4G, 5G, VoLTE, Wi-Fi, NFC\n",
      "Dual Sim, 3G, 4G, VoLTE, Wi-Fi, IR Blaster\n",
      "Dual Sim, 3G, 4G, VoLTE, Wi-Fi\n",
      "Dual Sim, 3G, 4G, 5G, VoLTE, Wi-Fi, NFC\n",
      "Dual Sim, 3G, 4G, 5G, VoLTE, Wi-Fi\n",
      "Dual Sim, 3G, 4G, 5G, VoLTE, Wi-Fi\n",
      "Dual Sim, 3G, 4G, 5G, VoLTE, Wi-Fi, IR Blaster\n",
      "Dual Sim, 3G, 4G, 5G, VoLTE, Wi-Fi, NFC\n",
      "Dual Sim, 3G, 4G, VoLTE, Wi-Fi\n",
      "Dual Sim, 3G, 4G, 5G, VoLTE, Wi-Fi, NFC\n",
      "Dual Sim, 3G, 4G, VoLTE, Wi-Fi\n",
      "Dual Sim, 3G, 4G, 5G, VoLTE, Wi-Fi, NFC\n",
      "Dual Sim, 3G, 4G, 5G, VoLTE, Wi-Fi, NFC\n",
      "Dual Sim, 3G, 4G, 5G, VoLTE, Wi-Fi, NFC\n",
      "Dual Sim, 3G, 4G, 5G, VoLTE, Wi-Fi, IR Blaster\n",
      "Dual Sim, 3G, 4G, VoLTE, Wi-Fi\n",
      "Dual Sim, 3G, 4G, 5G, VoLTE, Wi-Fi, NFC, IR Blaster\n",
      "Dual Sim, 3G, 4G, VoLTE, Wi-Fi\n",
      "Dual Sim, 3G, 4G, VoLTE, Wi-Fi, IR Blaster\n",
      "Dual Sim, 3G, 4G, 5G, VoLTE, Wi-Fi\n",
      "Dual Sim, 3G, 4G, 5G, VoLTE, Wi-Fi, NFC\n",
      "Dual Sim, 3G, 4G, VoLTE, Wi-Fi\n",
      "Dual Sim, 3G, 4G, 5G, VoLTE, Wi-Fi, NFC\n",
      "Dual Sim, 3G, 4G, VoLTE, Wi-Fi\n",
      "Dual Sim, 3G, 4G, VoLTE, Wi-Fi\n",
      "Dual Sim, 3G, 4G, 5G, VoLTE, Wi-Fi, NFC\n",
      "Dual Sim, 3G, 4G, VoLTE, Wi-Fi, NFC\n",
      "Dual Sim, 3G, 4G, 5G, VoLTE, Wi-Fi, NFC\n",
      "Dual Sim, 3G, 4G, VoLTE, Wi-Fi\n",
      "Dual Sim, 3G, 4G, 5G, VoLTE, Wi-Fi, NFC\n",
      "Dual Sim, 3G, 4G, VoLTE, Wi-Fi\n",
      "Dual Sim, 3G, 4G, 5G, VoLTE, Wi-Fi, NFC\n",
      "Dual Sim, 3G, 4G, VoLTE, Wi-Fi\n",
      "Dual Sim, 3G, 4G, 5G, VoLTE, Wi-Fi, NFC\n",
      "Dual Sim, 3G, 4G, VoLTE, Wi-Fi\n",
      "Dual Sim, 3G, 4G, 5G, VoLTE, Wi-Fi, NFC\n",
      "Dual Sim, 3G, 4G\n",
      "Dual Sim, 3G, 4G, 5G, VoLTE, Wi-Fi\n",
      "Dual Sim, 3G, 4G, VoLTE, Wi-Fi, IR Blaster\n",
      "Dual Sim, 3G, 4G, VoLTE, Wi-Fi\n",
      "Dual Sim, 3G, 4G, VoLTE, Wi-Fi\n",
      "Single Sim, 3G, 4G, 5G, VoLTE, Wi-Fi, NFC\n",
      "Dual Sim, 3G, 4G, 5G, VoLTE, Wi-Fi, NFC\n",
      "Dual Sim, 3G, 4G, VoLTE, Wi-Fi\n",
      "Dual Sim, 3G, 4G, VoLTE, Wi-Fi\n",
      "Dual Sim, 3G, 4G, VoLTE, Wi-Fi\n",
      "Dual Sim, 3G, 4G, VoLTE, Wi-Fi\n",
      "Dual Sim, 3G, 4G, VoLTE, Wi-Fi\n",
      "Dual Sim, 3G, 4G, VoLTE, Wi-Fi\n",
      "Dual Sim, 3G, 4G, 5G, VoLTE, Wi-Fi, NFC\n",
      "Dual Sim, 3G, 4G, 5G, VoLTE, Wi-Fi\n",
      "Dual Sim, 3G, 4G, VoLTE, Wi-Fi, IR Blaster\n",
      "Dual Sim, 3G, 4G, VoLTE, Wi-Fi, NFC\n",
      "Dual Sim, 3G, 4G, VoLTE, Wi-Fi\n",
      "Dual Sim, 3G, 4G, VoLTE, Wi-Fi, NFC\n",
      "Dual Sim, 3G, 4G, VoLTE, Wi-Fi\n",
      "Dual Sim, 3G, 4G, 5G, VoLTE, Wi-Fi\n",
      "Dual Sim, 3G, 4G, 5G, VoLTE, Wi-Fi\n",
      "Dual Sim, 3G, 4G, VoLTE, Wi-Fi, IR Blaster\n",
      "Dual Sim, 3G, 4G, 5G, VoLTE, Wi-Fi, IR Blaster\n",
      "Dual Sim, 3G, 4G, VoLTE\n",
      "Dual Sim, 3G, 4G, VoLTE, Wi-Fi\n",
      "Dual Sim, 3G, 4G, 5G, VoLTE, Wi-Fi, NFC\n",
      "Dual Sim, 3G, 4G, VoLTE, Wi-Fi, IR Blaster\n",
      "Dual Sim, 3G, 4G, VoLTE, Wi-Fi\n",
      "Dual Sim, 3G, 4G, VoLTE, Wi-Fi\n",
      "Dual Sim, 3G, 4G, 5G, VoLTE, Wi-Fi, NFC\n",
      "Dual Sim, 3G, 4G, 5G, VoLTE, Wi-Fi, IR Blaster\n",
      "Dual Sim, 3G, 4G, 5G, VoLTE, Wi-Fi, NFC\n",
      "Dual Sim, 3G, 4G, 5G, VoLTE, Wi-Fi\n",
      "Dual Sim, 3G, 4G, 5G, VoLTE, Wi-Fi, NFC\n",
      "Dual Sim, 3G, 4G, VoLTE, Wi-Fi\n",
      "Dual Sim, 3G, 4G, 5G, VoLTE, Wi-Fi, NFC\n",
      "Dual Sim, 3G, 4G, VoLTE, Wi-Fi\n",
      "Dual Sim, 3G, 4G, 5G, VoLTE, Wi-Fi\n",
      "Dual Sim, 3G, 4G, VoLTE, Wi-Fi\n",
      "Dual Sim, 3G, 4G, 5G, VoLTE, Wi-Fi, NFC\n",
      "Dual Sim, 3G, 4G, VoLTE, Wi-Fi\n",
      "Dual Sim, 3G, 4G, 5G, VoLTE, Wi-Fi, NFC\n",
      "Dual Sim, 3G, 4G, 5G, VoLTE, Wi-Fi, NFC\n",
      "Dual Sim, 3G, 4G, VoLTE, Wi-Fi, NFC\n",
      "Dual Sim, 3G, 4G, 5G, VoLTE, Wi-Fi\n",
      "Dual Sim, 3G, 4G, 5G, VoLTE, Wi-Fi\n",
      "Dual Sim, 3G, 4G, 5G, VoLTE, Wi-Fi, IR Blaster\n",
      "Dual Sim, 3G, 4G, VoLTE, Wi-Fi, IR Blaster\n",
      "Dual Sim, 3G, 4G, 5G, VoLTE, Wi-Fi, NFC\n",
      "Dual Sim, 3G, 4G, 5G, VoLTE, Wi-Fi\n",
      "Dual Sim, 3G, 4G, VoLTE, Wi-Fi\n",
      "Dual Sim, 3G, 4G, 5G, VoLTE, Wi-Fi, NFC\n",
      "Dual Sim, 3G, 4G, VoLTE, Wi-Fi\n",
      "Dual Sim, 3G, 4G, VoLTE, Wi-Fi\n",
      "Dual Sim, 3G, 4G, VoLTE, Wi-Fi\n",
      "Dual Sim, 3G, 4G, VoLTE, Wi-Fi\n",
      "Dual Sim, 3G, 4G, VoLTE, Wi-Fi, IR Blaster\n",
      "Dual Sim, 3G, 4G, VoLTE, Wi-Fi\n",
      "Dual Sim, 3G, 4G, VoLTE, Wi-Fi\n",
      "Dual Sim, 3G, 4G, VoLTE, Wi-Fi\n",
      "Dual Sim, 3G, 4G, 5G, VoLTE, Wi-Fi\n",
      "Dual Sim, 3G, 4G, 5G, VoLTE, Wi-Fi, NFC\n",
      "Dual Sim, 3G, 4G, VoLTE, Wi-Fi\n",
      "Dual Sim, 3G, 4G, VoLTE, Wi-Fi\n",
      "Dual Sim, 3G, 4G, VoLTE, Wi-Fi\n",
      "Dual Sim, 3G, 4G, VoLTE, Wi-Fi\n",
      "Dual Sim, 3G, 4G, VoLTE, Wi-Fi\n",
      "Dual Sim, 3G, 4G, VoLTE, Wi-Fi\n",
      "Dual Sim, 3G, 4G, 5G, VoLTE, Wi-Fi, IR Blaster\n",
      "Dual Sim, 3G, 4G, VoLTE, Wi-Fi\n",
      "Dual Sim, 3G, 4G, VoLTE, Wi-Fi\n",
      "Dual Sim, 3G, 4G, 5G, VoLTE, Wi-Fi\n",
      "Dual Sim, 3G, 4G, 5G, VoLTE, Wi-Fi, NFC, IR Blaster\n",
      "Dual Sim, 3G, 4G, 5G, VoLTE, Wi-Fi, NFC\n",
      "Dual Sim, 3G, 4G, VoLTE, Wi-Fi\n",
      "Dual Sim, 3G, 4G, VoLTE, Wi-Fi, NFC\n",
      "Dual Sim, 3G, 4G, VoLTE, Wi-Fi\n",
      "Dual Sim, 3G, 4G, 5G, VoLTE, Wi-Fi\n",
      "Dual Sim, 3G, 4G, VoLTE, Wi-Fi\n",
      "Dual Sim, 3G, 4G, 5G, VoLTE, Wi-Fi, IR Blaster\n",
      "Dual Sim, 3G, 4G, VoLTE, Wi-Fi, NFC\n",
      "Dual Sim, 3G, 4G, VoLTE, Wi-Fi, IR Blaster\n",
      "Dual Sim, 3G, 4G, VoLTE, Wi-Fi\n",
      "Dual Sim, 3G, 4G, VoLTE, Wi-Fi\n",
      "Dual Sim, 3G, 4G, VoLTE, Wi-Fi, IR Blaster\n",
      "Dual Sim, 3G, 4G, VoLTE, Wi-Fi\n",
      "Dual Sim, 3G, 4G, VoLTE, Wi-Fi\n",
      "Dual Sim, 3G, 4G, VoLTE, Wi-Fi\n",
      "Dual Sim, 3G, 4G, VoLTE, Wi-Fi\n",
      "Dual Sim, 3G, 4G, 5G, VoLTE, Wi-Fi\n",
      "Dual Sim, 3G, 4G, VoLTE, Wi-Fi\n",
      "Dual Sim, 3G, 4G, VoLTE, Wi-Fi\n",
      "Dual Sim\n",
      "Dual Sim, 3G, 4G, 5G, VoLTE, Wi-Fi, NFC\n",
      "Dual Sim, 3G, 4G, VoLTE, Wi-Fi, NFC\n",
      "Dual Sim, 3G, 4G, VoLTE, Wi-Fi\n",
      "Dual Sim, 3G, 4G, VoLTE, Wi-Fi, NFC, IR Blaster\n",
      "Dual Sim, 3G, 4G, VoLTE, Wi-Fi\n",
      "Dual Sim, 3G, 4G, VoLTE, Wi-Fi\n",
      "Dual Sim, 3G, 4G, VoLTE, Wi-Fi\n",
      "Dual Sim, 3G, 4G, VoLTE, Wi-Fi\n",
      "Dual Sim, 3G, 4G, VoLTE, Wi-Fi\n",
      "Dual Sim, 3G, 4G, VoLTE, Wi-Fi\n",
      "Dual Sim, 3G, 4G, 5G, VoLTE, Wi-Fi, NFC\n",
      "Dual Sim, 3G, 4G, VoLTE, Wi-Fi\n",
      "Dual Sim, 3G, 4G, VoLTE, Wi-Fi\n",
      "Dual Sim, 3G, 4G, VoLTE, Wi-Fi, IR Blaster\n",
      "Dual Sim, 3G, 4G, VoLTE, Wi-Fi\n",
      "Dual Sim, 3G, 4G, VoLTE, Wi-Fi, IR Blaster\n",
      "Dual Sim, 3G, 4G, 5G, VoLTE, Wi-Fi, NFC, IR Blaster\n",
      "Dual Sim, 3G, 4G, VoLTE, Wi-Fi\n",
      "Dual Sim, 3G, 4G, VoLTE, Wi-Fi, IR Blaster\n",
      "Dual Sim, 3G, 4G, VoLTE, Wi-Fi, IR Blaster\n",
      "Dual Sim, 3G, 4G, VoLTE, Wi-Fi\n",
      "Dual Sim\n",
      "Dual Sim, 3G, 4G, 5G, VoLTE, Wi-Fi, NFC\n",
      "Dual Sim, 3G, 4G, 5G, VoLTE, Wi-Fi, NFC\n",
      "Dual Sim, 3G, 4G, 5G, VoLTE, Wi-Fi\n",
      "Dual Sim, 3G, 4G, 5G, VoLTE, Wi-Fi, NFC, IR Blaster\n",
      "Dual Sim, 3G, 4G, 5G, VoLTE, Wi-Fi, NFC\n",
      "Dual Sim, 3G, 4G, VoLTE, Wi-Fi\n",
      "Dual Sim, 3G, 4G, 5G, VoLTE, Wi-Fi, NFC\n",
      "Dual Sim, 3G, 4G, VoLTE, Wi-Fi\n",
      "Dual Sim, 3G, 4G, 5G, VoLTE, Wi-Fi, NFC\n",
      "Dual Sim, 3G, 4G, 5G, VoLTE, Wi-Fi\n",
      "Single Sim\n",
      "Dual Sim, 3G, 4G, VoLTE, Wi-Fi\n",
      "Dual Sim, 3G, 4G, 5G, VoLTE, Wi-Fi\n",
      "Dual Sim, 3G, 4G, 5G, VoLTE, Wi-Fi, NFC\n",
      "Dual Sim, 3G, 4G, VoLTE, Wi-Fi\n",
      "Dual Sim, 3G, 4G, VoLTE, Wi-Fi\n",
      "Dual Sim, 3G, 4G, VoLTE, Wi-Fi\n",
      "Dual Sim, 3G, 4G, VoLTE, Wi-Fi\n",
      "Dual Sim, 3G, 4G, 5G, VoLTE, Wi-Fi, NFC\n",
      "Dual Sim, 3G, 4G, 5G, VoLTE, Wi-Fi, IR Blaster\n",
      "Dual Sim, 3G, 4G, 5G, VoLTE, Wi-Fi, NFC\n",
      "Dual Sim, 3G, 4G, 5G, VoLTE, Wi-Fi, NFC\n",
      "Dual Sim, 3G, 4G, VoLTE, Wi-Fi\n",
      "Dual Sim, 3G, 4G, 5G, VoLTE, Wi-Fi, IR Blaster\n",
      "Dual Sim, 3G, 4G, 5G, VoLTE, Wi-Fi, NFC\n",
      "Dual Sim, 3G, 4G, 5G, VoLTE, Wi-Fi, NFC\n",
      "Dual Sim, 3G, 4G, VoLTE, Wi-Fi\n",
      "Dual Sim, 3G, 4G, VoLTE, Wi-Fi, IR Blaster\n",
      "Dual Sim, 3G, 4G, VoLTE, Wi-Fi\n",
      "Dual Sim, 3G, 4G, VoLTE, Wi-Fi, NFC\n",
      "Dual Sim, 3G, 4G, VoLTE, Wi-Fi\n",
      "Dual Sim, 3G, 4G\n",
      "Dual Sim, 3G, 4G, 5G, VoLTE, Wi-Fi\n",
      "Dual Sim, 3G, 4G, VoLTE, Wi-Fi\n",
      "Dual Sim, 3G, 4G, VoLTE, Wi-Fi, IR Blaster\n",
      "Dual Sim, 3G, 4G, 5G, VoLTE, Wi-Fi, NFC\n",
      "Dual Sim, 3G, 4G, 5G, VoLTE, Wi-Fi\n",
      "Dual Sim, 3G, 4G, 5G, VoLTE, Wi-Fi, NFC\n",
      "Dual Sim, 3G, 4G, VoLTE, Wi-Fi\n",
      "Dual Sim, 3G, 4G, 5G, VoLTE, Wi-Fi, NFC\n",
      "Dual Sim, 3G, 4G, VoLTE, Wi-Fi\n",
      "Dual Sim, 3G, 4G, VoLTE, Wi-Fi\n",
      "Dual Sim, 3G, 4G, 5G, VoLTE, Wi-Fi\n",
      "Dual Sim, 3G, 4G, VoLTE, Wi-Fi\n",
      "Dual Sim, 3G, 4G, VoLTE, Wi-Fi\n",
      "Dual Sim, 3G, 4G, VoLTE, Wi-Fi\n",
      "Dual Sim, 3G, 4G, 5G, VoLTE, Wi-Fi, NFC\n",
      "Dual Sim, 3G, 4G, 5G, VoLTE, Wi-Fi, NFC, IR Blaster\n",
      "Dual Sim, 3G, 4G, VoLTE, Wi-Fi\n",
      "Dual Sim, 3G, 4G, VoLTE, Wi-Fi\n",
      "Dual Sim, 3G, 4G, 5G, VoLTE, Wi-Fi\n",
      "Dual Sim, 3G, 4G, VoLTE, Wi-Fi\n",
      "Dual Sim\n",
      "Dual Sim, 3G, 4G, VoLTE, Wi-Fi\n",
      "Dual Sim, 3G, 4G, VoLTE, Wi-Fi\n",
      "Dual Sim, 3G, 4G, 5G, VoLTE, Wi-Fi, NFC\n",
      "Dual Sim, 3G, 4G, 5G, VoLTE, Wi-Fi, IR Blaster\n",
      "Dual Sim, 3G, 4G, VoLTE, Wi-Fi, IR Blaster\n",
      "Dual Sim, 3G, 4G, VoLTE, Wi-Fi\n",
      "Dual Sim, 3G, 4G, VoLTE, Wi-Fi, NFC\n",
      "Dual Sim, 3G, 4G, 5G, VoLTE, Wi-Fi, NFC\n",
      "Dual Sim, 3G, 4G, 5G, VoLTE, Wi-Fi\n",
      "Dual Sim, 3G, 4G, VoLTE, Wi-Fi\n",
      "Dual Sim, 3G, 4G, VoLTE, Wi-Fi\n",
      "Dual Sim, 3G, 4G, VoLTE, Wi-Fi\n",
      "Dual Sim, 3G, 4G, VoLTE, Wi-Fi\n",
      "Dual Sim, 3G, 4G, VoLTE, Wi-Fi\n",
      "Dual Sim, 3G, 4G, 5G, VoLTE, Wi-Fi\n",
      "Dual Sim, 3G, 4G, VoLTE, Wi-Fi\n",
      "Dual Sim, 3G, 4G, VoLTE, Wi-Fi\n",
      "Dual Sim, 3G, 4G, VoLTE, Wi-Fi\n",
      "Dual Sim, 3G, 4G, 5G, VoLTE, Wi-Fi\n",
      "Dual Sim, 3G, 4G, VoLTE, Wi-Fi\n",
      "Dual Sim, 3G, 4G, VoLTE\n",
      "Dual Sim, 3G, 4G, VoLTE, Wi-Fi\n",
      "Dual Sim, 3G, 4G, VoLTE, Wi-Fi\n",
      "Dual Sim, 3G, 4G, VoLTE, Wi-Fi, NFC\n",
      "Dual Sim, 3G, 4G, VoLTE, Wi-Fi\n",
      "Dual Sim\n",
      "Dual Sim, 3G, 4G, VoLTE, Wi-Fi\n",
      "Dual Sim, 3G, 4G, VoLTE, Wi-Fi\n",
      "Dual Sim, 3G, 4G, 5G, VoLTE, Wi-Fi, NFC\n",
      "Dual Sim, 3G, 4G, VoLTE, Wi-Fi\n",
      "Dual Sim, 3G, 4G, 5G, VoLTE, Wi-Fi, NFC, IR Blaster\n",
      "Dual Sim, 3G, 4G, VoLTE, Wi-Fi\n",
      "Dual Sim, 3G, 4G, 5G, VoLTE, Wi-Fi\n",
      "Dual Sim, 3G, 4G, VoLTE, Wi-Fi\n",
      "Dual Sim, 3G, 4G, 5G, VoLTE, Wi-Fi, NFC\n",
      "Dual Sim, 3G, 4G, VoLTE, Wi-Fi, NFC\n",
      "Dual Sim, 3G, 4G, 5G, VoLTE, Wi-Fi, NFC\n",
      "Dual Sim, 3G, 4G, VoLTE, Wi-Fi, IR Blaster\n",
      "Dual Sim, 3G, 4G, VoLTE, Wi-Fi\n",
      "Dual Sim, 3G, 4G, VoLTE, Wi-Fi\n",
      "Dual Sim\n",
      "Single Sim, 3G, 4G, 5G, VoLTE, Wi-Fi, NFC\n",
      "Dual Sim, 3G, 4G, VoLTE, Wi-Fi\n",
      "Dual Sim\n",
      "Dual Sim, 3G, 4G, VoLTE, Wi-Fi\n",
      "Dual Sim, 3G, 4G, VoLTE, Wi-Fi\n",
      "Dual Sim, 3G, 4G, 5G, VoLTE, Wi-Fi, NFC\n",
      "Dual Sim, 3G, 4G, VoLTE, Wi-Fi\n",
      "Dual Sim\n",
      "Single Sim\n",
      "Dual Sim, 3G, 4G, VoLTE, Wi-Fi, IR Blaster\n",
      "Dual Sim, 3G, 4G, VoLTE, Wi-Fi\n",
      "Dual Sim, 3G, 4G, 5G, VoLTE, Wi-Fi, NFC\n",
      "Dual Sim, 3G, 4G, VoLTE, Wi-Fi\n",
      "Dual Sim, 3G, 4G, VoLTE, Wi-Fi\n",
      "Dual Sim, 3G, 4G, 5G, VoLTE, Wi-Fi\n",
      "Dual Sim, 3G, 4G, 5G, VoLTE, Wi-Fi, NFC\n",
      "Dual Sim, 3G, 4G, VoLTE, Wi-Fi, NFC\n",
      "Dual Sim, 3G, 4G, VoLTE, Wi-Fi, NFC\n",
      "Dual Sim, 3G, 4G, VoLTE, Wi-Fi\n",
      "Dual Sim, 3G, 4G, VoLTE, Wi-Fi\n",
      "Dual Sim, 3G, 4G, VoLTE, Wi-Fi\n",
      "Dual Sim, 3G, 4G, 5G, VoLTE, Wi-Fi, NFC\n",
      "Dual Sim, 3G, 4G, 5G, VoLTE, Wi-Fi, NFC\n",
      "Dual Sim, 3G, 4G, VoLTE, Wi-Fi\n",
      "Dual Sim, 3G, 4G, VoLTE, Wi-Fi\n",
      "Dual Sim, 3G, 4G, 5G, VoLTE, Wi-Fi, IR Blaster\n",
      "Dual Sim, 3G, 4G, VoLTE, Wi-Fi, IR Blaster\n",
      "Dual Sim, 3G, 4G, 5G, VoLTE, Wi-Fi, NFC\n",
      "Dual Sim, 3G, 4G, 5G, VoLTE, Wi-Fi, NFC\n",
      "Dual Sim, 3G, 4G, 5G, VoLTE, Wi-Fi, NFC, IR Blaster\n",
      "Dual Sim, 3G, 4G, 5G, VoLTE, Wi-Fi, NFC\n",
      "Dual Sim, 3G, 4G, VoLTE, Wi-Fi\n",
      "Dual Sim, 3G, 4G, 5G, VoLTE, Wi-Fi, NFC\n",
      "Dual Sim, 3G, 4G, VoLTE, Wi-Fi\n",
      "Dual Sim, 3G, 4G, VoLTE, Wi-Fi\n",
      "Dual Sim, 3G, 4G, VoLTE, Wi-Fi, IR Blaster\n",
      "Dual Sim, 3G, 4G, VoLTE, Wi-Fi\n",
      "Dual Sim, 3G, 4G, 5G, VoLTE, Wi-Fi, IR Blaster\n",
      "Dual Sim, 3G, 4G, VoLTE, Wi-Fi\n",
      "Dual Sim, 3G, 4G, VoLTE, Wi-Fi, IR Blaster\n",
      "Dual Sim, 3G, 4G, VoLTE, Wi-Fi, NFC, IR Blaster\n",
      "Dual Sim, 3G, 4G, VoLTE, Wi-Fi\n",
      "Dual Sim, 3G, 4G, VoLTE, Wi-Fi\n",
      "Dual Sim, 3G, 4G, VoLTE, Wi-Fi\n",
      "Dual Sim, 3G, 4G, 5G, VoLTE, Wi-Fi, IR Blaster\n",
      "Dual Sim, 3G, 4G, VoLTE, Wi-Fi\n",
      "Dual Sim, 3G, 4G, VoLTE\n",
      "Dual Sim, 3G, 4G, VoLTE, Wi-Fi, IR Blaster\n",
      "Dual Sim, 3G, 4G, VoLTE, Wi-Fi, IR Blaster\n",
      "Dual Sim, 3G, 4G, VoLTE, Wi-Fi, IR Blaster\n",
      "Dual Sim, 3G, 4G, VoLTE, Wi-Fi\n",
      "Dual Sim, 3G, 4G, VoLTE, Wi-Fi\n",
      "Dual Sim, 3G, 4G, VoLTE, Wi-Fi\n",
      "Dual Sim, 3G, 4G, VoLTE, Wi-Fi, IR Blaster\n",
      "Dual Sim, 3G, 4G, VoLTE, Wi-Fi\n",
      "Dual Sim, 3G, 4G, VoLTE, Wi-Fi\n",
      "Dual Sim, 3G, 4G, VoLTE, Wi-Fi\n",
      "Dual Sim, 3G, 4G, VoLTE, Wi-Fi\n",
      "Dual Sim, 3G, 4G, 5G, VoLTE, Wi-Fi, NFC\n",
      "Dual Sim, 3G, 4G, 5G, VoLTE, Wi-Fi, NFC\n",
      "Dual Sim, 3G, 4G, VoLTE, Wi-Fi\n",
      "Dual Sim, 3G, 4G, VoLTE, Wi-Fi\n",
      "Dual Sim, 3G, 4G, 5G, VoLTE, Wi-Fi\n",
      "Dual Sim, 3G, 4G, 5G, VoLTE, Wi-Fi\n",
      "Dual Sim, 3G, 4G, VoLTE, Wi-Fi\n"
     ]
    }
   ],
   "source": [
    "for i in containers:\n",
    "    x = i.find('ul',{'class':'sm-feat specs'}).find_all('li')\n",
    "    try:\n",
    "        print(x[0].text)\n",
    "    except:\n",
    "        print(np.nan)"
   ]
  },
  {
   "cell_type": "code",
   "execution_count": 33,
   "id": "d8f512fc",
   "metadata": {},
   "outputs": [
    {
     "data": {
      "application/javascript": [
       "\n",
       "        if (window._pyforest_update_imports_cell) { window._pyforest_update_imports_cell('import numpy as np\\nimport pandas as pd'); }\n",
       "    "
      ],
      "text/plain": [
       "<IPython.core.display.Javascript object>"
      ]
     },
     "metadata": {},
     "output_type": "display_data"
    },
    {
     "data": {
      "text/html": [
       "<div>\n",
       "<style scoped>\n",
       "    .dataframe tbody tr th:only-of-type {\n",
       "        vertical-align: middle;\n",
       "    }\n",
       "\n",
       "    .dataframe tbody tr th {\n",
       "        vertical-align: top;\n",
       "    }\n",
       "\n",
       "    .dataframe thead th {\n",
       "        text-align: right;\n",
       "    }\n",
       "</style>\n",
       "<table border=\"1\" class=\"dataframe\">\n",
       "  <thead>\n",
       "    <tr style=\"text-align: right;\">\n",
       "      <th></th>\n",
       "      <th>Model</th>\n",
       "      <th>Price</th>\n",
       "      <th>Specs_Score</th>\n",
       "    </tr>\n",
       "  </thead>\n",
       "  <tbody>\n",
       "    <tr>\n",
       "      <th>63</th>\n",
       "      <td>Apple iPhone 14 Pro</td>\n",
       "      <td>₹1,25,990</td>\n",
       "      <td>75</td>\n",
       "    </tr>\n",
       "    <tr>\n",
       "      <th>461</th>\n",
       "      <td>Vivo Y02 (2GB RAM + 32GB)</td>\n",
       "      <td>₹7,999</td>\n",
       "      <td>NaN</td>\n",
       "    </tr>\n",
       "    <tr>\n",
       "      <th>61</th>\n",
       "      <td>Xiaomi Redmi Note 11 (6GB RAM + 128GB)</td>\n",
       "      <td>₹14,233</td>\n",
       "      <td>80</td>\n",
       "    </tr>\n",
       "    <tr>\n",
       "      <th>324</th>\n",
       "      <td>Tecno Phantom X</td>\n",
       "      <td>₹25,999</td>\n",
       "      <td>84</td>\n",
       "    </tr>\n",
       "    <tr>\n",
       "      <th>233</th>\n",
       "      <td>Jio JioPhone Next</td>\n",
       "      <td>₹4,649</td>\n",
       "      <td>NaN</td>\n",
       "    </tr>\n",
       "  </tbody>\n",
       "</table>\n",
       "</div>"
      ],
      "text/plain": [
       "                                      Model      Price Specs_Score\n",
       "63                      Apple iPhone 14 Pro  ₹1,25,990          75\n",
       "461               Vivo Y02 (2GB RAM + 32GB)     ₹7,999         NaN\n",
       "61   Xiaomi Redmi Note 11 (6GB RAM + 128GB)    ₹14,233          80\n",
       "324                         Tecno Phantom X    ₹25,999          84\n",
       "233                       Jio JioPhone Next     ₹4,649         NaN"
      ]
     },
     "execution_count": 33,
     "metadata": {},
     "output_type": "execute_result"
    }
   ],
   "source": [
    "df = pd.DataFrame({\n",
    "    'Model':name,\n",
    "    'Price':price,\n",
    "    'Specs_Score':specs_score\n",
    "})\n",
    "df.sample(5)"
   ]
  },
  {
   "cell_type": "code",
   "execution_count": 34,
   "id": "cbe712ad",
   "metadata": {},
   "outputs": [
    {
     "data": {
      "application/javascript": [
       "\n",
       "        if (window._pyforest_update_imports_cell) { window._pyforest_update_imports_cell('import numpy as np\\nimport pandas as pd'); }\n",
       "    "
      ],
      "text/plain": [
       "<IPython.core.display.Javascript object>"
      ]
     },
     "metadata": {},
     "output_type": "display_data"
    }
   ],
   "source": [
    "df = pd.DataFrame({\n",
    "    'model':names,\n",
    "    'price':prices,\n",
    "    'rating':ratings,\n",
    "    'sim':sim,\n",
    "    'processor':processor,\n",
    "    'ram':ram,\n",
    "    'battery':battery,\n",
    "    'display':display,\n",
    "    'camera':camera,\n",
    "    'card':card,\n",
    "    'os':os\n",
    "})"
   ]
  },
  {
   "cell_type": "code",
   "execution_count": 35,
   "id": "7446ecbb",
   "metadata": {},
   "outputs": [
    {
     "data": {
      "text/html": [
       "<div>\n",
       "<style scoped>\n",
       "    .dataframe tbody tr th:only-of-type {\n",
       "        vertical-align: middle;\n",
       "    }\n",
       "\n",
       "    .dataframe tbody tr th {\n",
       "        vertical-align: top;\n",
       "    }\n",
       "\n",
       "    .dataframe thead th {\n",
       "        text-align: right;\n",
       "    }\n",
       "</style>\n",
       "<table border=\"1\" class=\"dataframe\">\n",
       "  <thead>\n",
       "    <tr style=\"text-align: right;\">\n",
       "      <th></th>\n",
       "      <th>model</th>\n",
       "      <th>price</th>\n",
       "      <th>rating</th>\n",
       "      <th>sim</th>\n",
       "      <th>processor</th>\n",
       "      <th>ram</th>\n",
       "      <th>battery</th>\n",
       "      <th>display</th>\n",
       "      <th>camera</th>\n",
       "      <th>card</th>\n",
       "      <th>os</th>\n",
       "    </tr>\n",
       "  </thead>\n",
       "  <tbody>\n",
       "    <tr>\n",
       "      <th>0</th>\n",
       "      <td>OnePlus Nord CE 2 Lite 5G</td>\n",
       "      <td>₹18,999</td>\n",
       "      <td>81</td>\n",
       "      <td>Dual Sim, 3G, 4G, 5G, VoLTE, Wi-Fi</td>\n",
       "      <td>Snapdragon 695, Octa Core, 2.2 GHz Processor</td>\n",
       "      <td>6 GB RAM, 128 GB inbuilt</td>\n",
       "      <td>5000 mAh Battery with 33W Fast Charging</td>\n",
       "      <td>6.59 inches, 1080 x 2412 px, 120 Hz Display wi...</td>\n",
       "      <td>64 MP + 2 MP + 2 MP Triple Rear &amp; 16 MP Front ...</td>\n",
       "      <td>Memory Card (Hybrid), upto 1 TB</td>\n",
       "      <td>Android v12</td>\n",
       "    </tr>\n",
       "    <tr>\n",
       "      <th>1</th>\n",
       "      <td>Samsung Galaxy A14 5G</td>\n",
       "      <td>₹16,499</td>\n",
       "      <td>75</td>\n",
       "      <td>Dual Sim, 3G, 4G, 5G, VoLTE, Wi-Fi</td>\n",
       "      <td>Exynos 1330, Octa Core, 2.4 GHz Processor</td>\n",
       "      <td>4 GB RAM, 64 GB inbuilt</td>\n",
       "      <td>5000 mAh Battery with 15W Fast Charging</td>\n",
       "      <td>6.6 inches, 1080 x 2408 px, 90 Hz Display with...</td>\n",
       "      <td>50 MP + 2 MP + 2 MP Triple Rear &amp; 13 MP Front ...</td>\n",
       "      <td>Memory Card Supported, upto 1 TB</td>\n",
       "      <td>Android v13</td>\n",
       "    </tr>\n",
       "    <tr>\n",
       "      <th>2</th>\n",
       "      <td>Motorola Moto G62 5G</td>\n",
       "      <td>₹14,999</td>\n",
       "      <td>81</td>\n",
       "      <td>Dual Sim, 3G, 4G, 5G, VoLTE, Wi-Fi</td>\n",
       "      <td>Snapdragon  695, Octa Core, 2.2 GHz Processor</td>\n",
       "      <td>6 GB RAM, 128 GB inbuilt</td>\n",
       "      <td>5000 mAh Battery with Fast Charging</td>\n",
       "      <td>6.55 inches, 1080 x 2400 px, 120 Hz Display wi...</td>\n",
       "      <td>50 MP + 8 MP + 2 MP Triple Rear &amp; 16 MP Front ...</td>\n",
       "      <td>Memory Card (Hybrid), upto 1 TB</td>\n",
       "      <td>Android v12</td>\n",
       "    </tr>\n",
       "    <tr>\n",
       "      <th>3</th>\n",
       "      <td>Realme 10 Pro Plus</td>\n",
       "      <td>₹24,999</td>\n",
       "      <td>82</td>\n",
       "      <td>Dual Sim, 3G, 4G, 5G, VoLTE, Wi-Fi</td>\n",
       "      <td>Dimensity 1080, Octa Core, 2.6 GHz Processor</td>\n",
       "      <td>6 GB RAM, 128 GB inbuilt</td>\n",
       "      <td>5000 mAh Battery with 67W Fast Charging</td>\n",
       "      <td>6.7 inches, 1080 x 2412 px, 120 Hz Display wit...</td>\n",
       "      <td>108 MP + 8 MP + 2 MP Triple Rear &amp; 16 MP Front...</td>\n",
       "      <td>Memory Card Not Supported</td>\n",
       "      <td>Android v13</td>\n",
       "    </tr>\n",
       "    <tr>\n",
       "      <th>4</th>\n",
       "      <td>Apple iPhone 14</td>\n",
       "      <td>₹72,990</td>\n",
       "      <td>81</td>\n",
       "      <td>Dual Sim, 3G, 4G, 5G, VoLTE, Wi-Fi, NFC</td>\n",
       "      <td>Bionic A15, Hexa Core, 3.22 GHz Processor</td>\n",
       "      <td>6 GB RAM, 128 GB inbuilt</td>\n",
       "      <td>3279 mAh Battery with Fast Charging</td>\n",
       "      <td>6.1 inches, 1170 x 2532 px Display with Small ...</td>\n",
       "      <td>12 MP + 12 MP Dual Rear &amp; 12 MP Front Camera</td>\n",
       "      <td>Memory Card Not Supported</td>\n",
       "      <td>iOS v16</td>\n",
       "    </tr>\n",
       "  </tbody>\n",
       "</table>\n",
       "</div>"
      ],
      "text/plain": [
       "                       model    price  ...                              card           os\n",
       "0  OnePlus Nord CE 2 Lite 5G  ₹18,999  ...   Memory Card (Hybrid), upto 1 TB  Android v12\n",
       "1      Samsung Galaxy A14 5G  ₹16,499  ...  Memory Card Supported, upto 1 TB  Android v13\n",
       "2       Motorola Moto G62 5G  ₹14,999  ...   Memory Card (Hybrid), upto 1 TB  Android v12\n",
       "3         Realme 10 Pro Plus  ₹24,999  ...         Memory Card Not Supported  Android v13\n",
       "4            Apple iPhone 14  ₹72,990  ...         Memory Card Not Supported      iOS v16\n",
       "\n",
       "[5 rows x 11 columns]"
      ]
     },
     "execution_count": 35,
     "metadata": {},
     "output_type": "execute_result"
    }
   ],
   "source": [
    "df.head()"
   ]
  },
  {
   "cell_type": "code",
   "execution_count": null,
   "id": "2938f6cb",
   "metadata": {},
   "outputs": [],
   "source": []
  }
 ],
 "metadata": {
  "kernelspec": {
   "display_name": "Python 3",
   "language": "python",
   "name": "python3"
  },
  "language_info": {
   "codemirror_mode": {
    "name": "ipython",
    "version": 3
   },
   "file_extension": ".py",
   "mimetype": "text/x-python",
   "name": "python",
   "nbconvert_exporter": "python",
   "pygments_lexer": "ipython3",
   "version": "3.8.8"
  }
 },
 "nbformat": 4,
 "nbformat_minor": 5
}
